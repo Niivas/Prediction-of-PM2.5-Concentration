{
 "cells": [
  {
   "cell_type": "code",
   "execution_count": 6,
   "id": "d084c197",
   "metadata": {},
   "outputs": [],
   "source": [
    "import pandas as pd\n",
    "import numpy as np\n",
    "import matplotlib.pyplot as plt\n",
    "import seaborn as sns"
   ]
  },
  {
   "cell_type": "code",
   "execution_count": 7,
   "id": "b6e5efac",
   "metadata": {},
   "outputs": [],
   "source": [
    "data = pd.read_excel(\"C:/Users/Admin/OneDrive/Desktop/Major Project 2022/SEASONS/summer.xlsx\")"
   ]
  },
  {
   "cell_type": "code",
   "execution_count": 8,
   "id": "5c148e22",
   "metadata": {},
   "outputs": [],
   "source": [
    "data = data.drop(\"SLP\", axis=1)"
   ]
  },
  {
   "cell_type": "code",
   "execution_count": 9,
   "id": "d65bd51c",
   "metadata": {},
   "outputs": [
    {
     "data": {
      "text/html": [
       "<div>\n",
       "<style scoped>\n",
       "    .dataframe tbody tr th:only-of-type {\n",
       "        vertical-align: middle;\n",
       "    }\n",
       "\n",
       "    .dataframe tbody tr th {\n",
       "        vertical-align: top;\n",
       "    }\n",
       "\n",
       "    .dataframe thead th {\n",
       "        text-align: right;\n",
       "    }\n",
       "</style>\n",
       "<table border=\"1\" class=\"dataframe\">\n",
       "  <thead>\n",
       "    <tr style=\"text-align: right;\">\n",
       "      <th></th>\n",
       "      <th>DATE</th>\n",
       "      <th>T</th>\n",
       "      <th>TM</th>\n",
       "      <th>Tm</th>\n",
       "      <th>H</th>\n",
       "      <th>VV</th>\n",
       "      <th>V</th>\n",
       "      <th>VM</th>\n",
       "      <th>SO2</th>\n",
       "      <th>NO2</th>\n",
       "      <th>CO</th>\n",
       "      <th>PM2.5</th>\n",
       "    </tr>\n",
       "  </thead>\n",
       "  <tbody>\n",
       "    <tr>\n",
       "      <th>0</th>\n",
       "      <td>2019-04-01</td>\n",
       "      <td>30.1</td>\n",
       "      <td>35.0</td>\n",
       "      <td>26.0</td>\n",
       "      <td>69.0</td>\n",
       "      <td>4.2</td>\n",
       "      <td>15.6</td>\n",
       "      <td>20.6</td>\n",
       "      <td>10.10</td>\n",
       "      <td>35.51</td>\n",
       "      <td>0.94</td>\n",
       "      <td>43.25</td>\n",
       "    </tr>\n",
       "    <tr>\n",
       "      <th>1</th>\n",
       "      <td>2019-04-02</td>\n",
       "      <td>29.9</td>\n",
       "      <td>36.0</td>\n",
       "      <td>25.8</td>\n",
       "      <td>71.0</td>\n",
       "      <td>5.3</td>\n",
       "      <td>14.3</td>\n",
       "      <td>24.1</td>\n",
       "      <td>17.80</td>\n",
       "      <td>36.19</td>\n",
       "      <td>0.95</td>\n",
       "      <td>28.42</td>\n",
       "    </tr>\n",
       "    <tr>\n",
       "      <th>2</th>\n",
       "      <td>2019-04-03</td>\n",
       "      <td>29.6</td>\n",
       "      <td>35.6</td>\n",
       "      <td>25.6</td>\n",
       "      <td>69.0</td>\n",
       "      <td>4.8</td>\n",
       "      <td>14.8</td>\n",
       "      <td>46.5</td>\n",
       "      <td>14.67</td>\n",
       "      <td>35.23</td>\n",
       "      <td>0.88</td>\n",
       "      <td>27.50</td>\n",
       "    </tr>\n",
       "    <tr>\n",
       "      <th>3</th>\n",
       "      <td>2019-04-04</td>\n",
       "      <td>29.3</td>\n",
       "      <td>35.4</td>\n",
       "      <td>25.0</td>\n",
       "      <td>74.0</td>\n",
       "      <td>5.0</td>\n",
       "      <td>12.8</td>\n",
       "      <td>20.6</td>\n",
       "      <td>21.15</td>\n",
       "      <td>32.42</td>\n",
       "      <td>0.87</td>\n",
       "      <td>27.02</td>\n",
       "    </tr>\n",
       "    <tr>\n",
       "      <th>4</th>\n",
       "      <td>2019-04-05</td>\n",
       "      <td>30.2</td>\n",
       "      <td>36.0</td>\n",
       "      <td>25.0</td>\n",
       "      <td>66.0</td>\n",
       "      <td>4.7</td>\n",
       "      <td>12.8</td>\n",
       "      <td>18.3</td>\n",
       "      <td>19.17</td>\n",
       "      <td>25.85</td>\n",
       "      <td>0.72</td>\n",
       "      <td>23.63</td>\n",
       "    </tr>\n",
       "    <tr>\n",
       "      <th>...</th>\n",
       "      <td>...</td>\n",
       "      <td>...</td>\n",
       "      <td>...</td>\n",
       "      <td>...</td>\n",
       "      <td>...</td>\n",
       "      <td>...</td>\n",
       "      <td>...</td>\n",
       "      <td>...</td>\n",
       "      <td>...</td>\n",
       "      <td>...</td>\n",
       "      <td>...</td>\n",
       "      <td>...</td>\n",
       "    </tr>\n",
       "    <tr>\n",
       "      <th>86</th>\n",
       "      <td>2019-06-26</td>\n",
       "      <td>30.4</td>\n",
       "      <td>36.0</td>\n",
       "      <td>27.0</td>\n",
       "      <td>77.0</td>\n",
       "      <td>5.1</td>\n",
       "      <td>8.7</td>\n",
       "      <td>22.2</td>\n",
       "      <td>8.36</td>\n",
       "      <td>27.46</td>\n",
       "      <td>0.79</td>\n",
       "      <td>30.65</td>\n",
       "    </tr>\n",
       "    <tr>\n",
       "      <th>87</th>\n",
       "      <td>2019-06-27</td>\n",
       "      <td>30.9</td>\n",
       "      <td>36.6</td>\n",
       "      <td>26.8</td>\n",
       "      <td>73.0</td>\n",
       "      <td>5.0</td>\n",
       "      <td>13.9</td>\n",
       "      <td>18.3</td>\n",
       "      <td>13.28</td>\n",
       "      <td>47.96</td>\n",
       "      <td>0.81</td>\n",
       "      <td>40.18</td>\n",
       "    </tr>\n",
       "    <tr>\n",
       "      <th>88</th>\n",
       "      <td>2019-06-28</td>\n",
       "      <td>33.4</td>\n",
       "      <td>39.4</td>\n",
       "      <td>27.4</td>\n",
       "      <td>60.0</td>\n",
       "      <td>5.5</td>\n",
       "      <td>15.9</td>\n",
       "      <td>22.2</td>\n",
       "      <td>14.79</td>\n",
       "      <td>50.51</td>\n",
       "      <td>0.87</td>\n",
       "      <td>30.40</td>\n",
       "    </tr>\n",
       "    <tr>\n",
       "      <th>89</th>\n",
       "      <td>2019-06-29</td>\n",
       "      <td>32.6</td>\n",
       "      <td>39.4</td>\n",
       "      <td>27.4</td>\n",
       "      <td>59.0</td>\n",
       "      <td>5.6</td>\n",
       "      <td>14.3</td>\n",
       "      <td>25.9</td>\n",
       "      <td>14.17</td>\n",
       "      <td>42.21</td>\n",
       "      <td>0.80</td>\n",
       "      <td>25.84</td>\n",
       "    </tr>\n",
       "    <tr>\n",
       "      <th>90</th>\n",
       "      <td>2019-06-30</td>\n",
       "      <td>29.6</td>\n",
       "      <td>37.4</td>\n",
       "      <td>27.0</td>\n",
       "      <td>72.0</td>\n",
       "      <td>5.6</td>\n",
       "      <td>14.6</td>\n",
       "      <td>27.8</td>\n",
       "      <td>14.86</td>\n",
       "      <td>39.65</td>\n",
       "      <td>0.63</td>\n",
       "      <td>20.40</td>\n",
       "    </tr>\n",
       "  </tbody>\n",
       "</table>\n",
       "<p>84 rows × 12 columns</p>\n",
       "</div>"
      ],
      "text/plain": [
       "         DATE     T    TM    Tm     H   VV     V    VM    SO2    NO2    CO  \\\n",
       "0  2019-04-01  30.1  35.0  26.0  69.0  4.2  15.6  20.6  10.10  35.51  0.94   \n",
       "1  2019-04-02  29.9  36.0  25.8  71.0  5.3  14.3  24.1  17.80  36.19  0.95   \n",
       "2  2019-04-03  29.6  35.6  25.6  69.0  4.8  14.8  46.5  14.67  35.23  0.88   \n",
       "3  2019-04-04  29.3  35.4  25.0  74.0  5.0  12.8  20.6  21.15  32.42  0.87   \n",
       "4  2019-04-05  30.2  36.0  25.0  66.0  4.7  12.8  18.3  19.17  25.85  0.72   \n",
       "..        ...   ...   ...   ...   ...  ...   ...   ...    ...    ...   ...   \n",
       "86 2019-06-26  30.4  36.0  27.0  77.0  5.1   8.7  22.2   8.36  27.46  0.79   \n",
       "87 2019-06-27  30.9  36.6  26.8  73.0  5.0  13.9  18.3  13.28  47.96  0.81   \n",
       "88 2019-06-28  33.4  39.4  27.4  60.0  5.5  15.9  22.2  14.79  50.51  0.87   \n",
       "89 2019-06-29  32.6  39.4  27.4  59.0  5.6  14.3  25.9  14.17  42.21  0.80   \n",
       "90 2019-06-30  29.6  37.4  27.0  72.0  5.6  14.6  27.8  14.86  39.65  0.63   \n",
       "\n",
       "    PM2.5  \n",
       "0   43.25  \n",
       "1   28.42  \n",
       "2   27.50  \n",
       "3   27.02  \n",
       "4   23.63  \n",
       "..    ...  \n",
       "86  30.65  \n",
       "87  40.18  \n",
       "88  30.40  \n",
       "89  25.84  \n",
       "90  20.40  \n",
       "\n",
       "[84 rows x 12 columns]"
      ]
     },
     "execution_count": 9,
     "metadata": {},
     "output_type": "execute_result"
    }
   ],
   "source": [
    "data = data.dropna()\n",
    "data"
   ]
  },
  {
   "cell_type": "code",
   "execution_count": 13,
   "id": "807c74e5",
   "metadata": {},
   "outputs": [
    {
     "data": {
      "image/png": "[encoded data removed]",
      "text/plain": [
       "<Figure size 640x480 with 1 Axes>"
      ]
     },
     "metadata": {},
     "output_type": "display_data"
    }
   ],
   "source": [
    "x = data[\"T\"]\n",
    "y = data[\"PM2.5\"]\n",
    "\n",
    "plt.scatter(x,y)\n",
    "\n",
    "z = np.polyfit(x, y, 1)\n",
    "p = np.poly1d(z)\n",
    "\n",
    "plt.plot(x, p(x))\n",
    "plt.title(\"Temperature Vs PM2.5\") #title\n",
    "plt.xlabel(\"Temperature\") #x label\n",
    "plt.ylabel(\"Concenration of PM2.5\") #y label\n",
    "plt.show()"
   ]
  },
  {
   "cell_type": "code",
   "execution_count": 11,
   "id": "2cd957e0",
   "metadata": {},
   "outputs": [
    {
     "data": {
      "text/plain": [
       "[<matplotlib.lines.Line2D at 0x1943ffd56d0>]"
      ]
     },
     "execution_count": 11,
     "metadata": {},
     "output_type": "execute_result"
    },
    {
     "data": {
      "image/png": "[encoded data removed]",
      "text/plain": [
       "<Figure size 640x480 with 1 Axes>"
      ]
     },
     "metadata": {},
     "output_type": "display_data"
    }
   ],
   "source": [
    "b = data[\"H\"]\n",
    "plt.scatter(b,y)\n",
    "\n",
    "z = np.polyfit(b, y, 1)\n",
    "p = np.poly1d(z)\n",
    "\n",
    "plt.plot(b, p(b))"
   ]
  },
  {
   "cell_type": "code",
   "execution_count": 12,
   "id": "20bead9e",
   "metadata": {},
   "outputs": [
    {
     "data": {
      "text/plain": [
       "[<matplotlib.lines.Line2D at 0x194400b53a0>]"
      ]
     },
     "execution_count": 12,
     "metadata": {},
     "output_type": "execute_result"
    },
    {
     "data": {
      "image/png": "[encoded data removed]",
      "text/plain": [
       "<Figure size 640x480 with 1 Axes>"
      ]
     },
     "metadata": {},
     "output_type": "display_data"
    }
   ],
   "source": [
    "c = data[\"VV\"]\n",
    "plt.scatter(c,y)\n",
    "\n",
    "z = np.polyfit(c, y, 1)\n",
    "p = np.poly1d(z)\n",
    "\n",
    "plt.plot(c, p(c))"
   ]
  },
  {
   "cell_type": "code",
   "execution_count": null,
   "id": "0ca62ddd",
   "metadata": {},
   "outputs": [],
   "source": []
  },
  {
   "cell_type": "code",
   "execution_count": null,
   "id": "e5ba5197",
   "metadata": {},
   "outputs": [],
   "source": []
  },
  {
   "cell_type": "code",
   "execution_count": null,
   "id": "58b4fb23",
   "metadata": {},
   "outputs": [],
   "source": []
  },
  {
   "cell_type": "code",
   "execution_count": null,
   "id": "4aaf1716",
   "metadata": {},
   "outputs": [],
   "source": []
  }
 ],
 "metadata": {
  "kernelspec": {
   "display_name": "Python 3 (ipykernel)",
   "language": "python",
   "name": "python3"
  },
  "language_info": {
   "codemirror_mode": {
    "name": "ipython",
    "version": 3
   },
   "file_extension": ".py",
   "mimetype": "text/x-python",
   "name": "python",
   "nbconvert_exporter": "python",
   "pygments_lexer": "ipython3",
   "version": "3.9.13"
  }
 },
 "nbformat": 4,
 "nbformat_minor": 5
}
